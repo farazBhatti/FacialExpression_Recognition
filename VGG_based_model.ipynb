{
  "nbformat": 4,
  "nbformat_minor": 0,
  "metadata": {
    "colab": {
      "name": "CV.ipynb",
      "provenance": [],
      "collapsed_sections": []
    },
    "kernelspec": {
      "name": "python3",
      "display_name": "Python 3"
    },
    "language_info": {
      "name": "python"
    },
    "accelerator": "GPU"
  },
  "cells": [
    {
      "cell_type": "code",
      "source": [
        "import matplotlib.pyplot as plt\n",
        "from tensorflow.keras.applications.resnet50 import ResNet50"
      ],
      "metadata": {
        "id": "Qo_m21EBIcCo"
      },
      "execution_count": 2,
      "outputs": []
    },
    {
      "cell_type": "code",
      "execution_count": 3,
      "metadata": {
        "id": "OocYrOQTDpYS"
      },
      "outputs": [],
      "source": [
        "from keras.preprocessing.image import ImageDataGenerator\n",
        "from keras.applications.vgg16 import VGG16\n",
        "import tensorflow as tf\n",
        "from tensorflow import keras\n",
        "from tensorflow.keras import layers\n",
        "import os\n",
        "import numpy as np\n",
        "import pandas as pd\n",
        "cwd=os.getcwd()\n",
        "from keras.models import Model\n",
        "from keras.layers import Dense\n",
        "from keras.layers import Flatten\n",
        "from keras.layers import GlobalAveragePooling2D\n",
        "from PIL import Image\n",
        "from sklearn.preprocessing import LabelEncoder"
      ]
    },
    {
      "cell_type": "code",
      "source": [
        "from google.colab import drive\n",
        "drive.mount('/content/gdrive')"
      ],
      "metadata": {
        "id": "JsNibAPzTwfA",
        "colab": {
          "base_uri": "https://localhost:8080/"
        },
        "outputId": "7bf27ee1-239a-495c-e212-5404b1810be0"
      },
      "execution_count": 4,
      "outputs": [
        {
          "output_type": "stream",
          "name": "stdout",
          "text": [
            "Mounted at /content/gdrive\n"
          ]
        }
      ]
    },
    {
      "cell_type": "code",
      "source": [
        "cd /content/gdrive/MyDrive/"
      ],
      "metadata": {
        "id": "epVlqcDYESb9",
        "colab": {
          "base_uri": "https://localhost:8080/"
        },
        "outputId": "ffecf25b-4d43-4aad-ec70-6435aed79d18"
      },
      "execution_count": 5,
      "outputs": [
        {
          "output_type": "stream",
          "name": "stdout",
          "text": [
            "/content/gdrive/MyDrive\n"
          ]
        }
      ]
    },
    {
      "cell_type": "code",
      "source": [
        "df = pd.read_csv(\"file2.csv\") "
      ],
      "metadata": {
        "id": "D5u7xvRliiIr"
      },
      "execution_count": 6,
      "outputs": []
    },
    {
      "cell_type": "code",
      "source": [
        "#Defining VGG Model and customizing it \n",
        "direc='Data/50k/images'\n",
        "\n",
        "datagen=ImageDataGenerator(validation_split=0.2)\n",
        "\n",
        "train_generator = datagen.flow_from_dataframe(\n",
        "    dataframe=df,\n",
        "    directory=direc,\n",
        "    x_col=\"image\",\n",
        "    y_col=['valence', 'Arousal', 'expression'],\n",
        "    image_size=(224,224),\n",
        "    batch_size=5,\n",
        "    class_mode=\"multi_output\",\n",
        "    subset='training',\n",
        "    shuffle=True,\n",
        "    seed=42)\n",
        "\n",
        "valid_generator = datagen.flow_from_dataframe(\n",
        "    dataframe=df,\n",
        "    directory=direc,\n",
        "    x_col=\"image\",\n",
        "    y_col=['valence', 'Arousal', 'expression'],\n",
        "    image_size=(224,224),\n",
        "    batch_size=5,\n",
        "    class_mode=\"multi_output\",\n",
        "    subset='validation',\n",
        "    shuffle=True,\n",
        "    seed=42\n",
        ")\n"
      ],
      "metadata": {
        "id": "T54OIIbAEFjq",
        "colab": {
          "base_uri": "https://localhost:8080/"
        },
        "outputId": "56b4f381-3d04-4516-af21-e7bc27b0bdbc"
      },
      "execution_count": 8,
      "outputs": [
        {
          "output_type": "stream",
          "name": "stdout",
          "text": [
            "Found 22090 validated image filenames.\n",
            "Found 5522 validated image filenames.\n"
          ]
        }
      ]
    },
    {
      "cell_type": "code",
      "source": [
        "model = VGG16(include_top=False, input_shape=(224, 224, 3))\n",
        "\n",
        "for layer in model.layers:\n",
        "\tlayer.trainable = False\n",
        "    \n",
        "# add new classifier layers\n",
        "out =GlobalAveragePooling2D()(model.layers[-1].output)\n",
        "class2 = Dense(512, activation='relu')(out)\n",
        "class3=Dense(512, activation='relu')(class2)\n",
        "\n",
        "exp_1 = Dense(100, activation='relu')(class3)\n",
        "exp_2=Dense(100, activation='relu')(exp_1)\n",
        "expression = Dense(8, activation='softmax',name='expression')(exp_2)\n",
        "\n",
        "val_1 = Dense(100, activation='relu')(class3)\n",
        "val_2=Dense(100, activation='relu')(val_1)\n",
        "valence=keras.layers.Dense(1, activation='linear',name='valence')(val_2)\n",
        "\n",
        "arrousal_1 = Dense(100, activation='relu')(class3)\n",
        "arrousal_2=Dense(100, activation='relu')(val_1)\n",
        "arrousal=keras.layers.Dense(1, activation='linear',name='arrousal')(arrousal_2)\n",
        "# define new model\n",
        "model = Model(inputs=model.inputs, outputs=[expression,valence,arrousal])\n",
        "# summarize\n",
        "model.summary()\n",
        "\n",
        "print(\"completed\")"
      ],
      "metadata": {
        "id": "_s-IOSw2EP5P",
        "colab": {
          "base_uri": "https://localhost:8080/"
        },
        "outputId": "3b1c1c8c-19a0-4d0a-a3b5-6173e572345f"
      },
      "execution_count": 9,
      "outputs": [
        {
          "output_type": "stream",
          "name": "stdout",
          "text": [
            "Downloading data from https://storage.googleapis.com/tensorflow/keras-applications/vgg16/vgg16_weights_tf_dim_ordering_tf_kernels_notop.h5\n",
            "58892288/58889256 [==============================] - 1s 0us/step\n",
            "58900480/58889256 [==============================] - 1s 0us/step\n",
            "Model: \"model\"\n",
            "__________________________________________________________________________________________________\n",
            " Layer (type)                   Output Shape         Param #     Connected to                     \n",
            "==================================================================================================\n",
            " input_1 (InputLayer)           [(None, 224, 224, 3  0           []                               \n",
            "                                )]                                                                \n",
            "                                                                                                  \n",
            " block1_conv1 (Conv2D)          (None, 224, 224, 64  1792        ['input_1[0][0]']                \n",
            "                                )                                                                 \n",
            "                                                                                                  \n",
            " block1_conv2 (Conv2D)          (None, 224, 224, 64  36928       ['block1_conv1[0][0]']           \n",
            "                                )                                                                 \n",
            "                                                                                                  \n",
            " block1_pool (MaxPooling2D)     (None, 112, 112, 64  0           ['block1_conv2[0][0]']           \n",
            "                                )                                                                 \n",
            "                                                                                                  \n",
            " block2_conv1 (Conv2D)          (None, 112, 112, 12  73856       ['block1_pool[0][0]']            \n",
            "                                8)                                                                \n",
            "                                                                                                  \n",
            " block2_conv2 (Conv2D)          (None, 112, 112, 12  147584      ['block2_conv1[0][0]']           \n",
            "                                8)                                                                \n",
            "                                                                                                  \n",
            " block2_pool (MaxPooling2D)     (None, 56, 56, 128)  0           ['block2_conv2[0][0]']           \n",
            "                                                                                                  \n",
            " block3_conv1 (Conv2D)          (None, 56, 56, 256)  295168      ['block2_pool[0][0]']            \n",
            "                                                                                                  \n",
            " block3_conv2 (Conv2D)          (None, 56, 56, 256)  590080      ['block3_conv1[0][0]']           \n",
            "                                                                                                  \n",
            " block3_conv3 (Conv2D)          (None, 56, 56, 256)  590080      ['block3_conv2[0][0]']           \n",
            "                                                                                                  \n",
            " block3_pool (MaxPooling2D)     (None, 28, 28, 256)  0           ['block3_conv3[0][0]']           \n",
            "                                                                                                  \n",
            " block4_conv1 (Conv2D)          (None, 28, 28, 512)  1180160     ['block3_pool[0][0]']            \n",
            "                                                                                                  \n",
            " block4_conv2 (Conv2D)          (None, 28, 28, 512)  2359808     ['block4_conv1[0][0]']           \n",
            "                                                                                                  \n",
            " block4_conv3 (Conv2D)          (None, 28, 28, 512)  2359808     ['block4_conv2[0][0]']           \n",
            "                                                                                                  \n",
            " block4_pool (MaxPooling2D)     (None, 14, 14, 512)  0           ['block4_conv3[0][0]']           \n",
            "                                                                                                  \n",
            " block5_conv1 (Conv2D)          (None, 14, 14, 512)  2359808     ['block4_pool[0][0]']            \n",
            "                                                                                                  \n",
            " block5_conv2 (Conv2D)          (None, 14, 14, 512)  2359808     ['block5_conv1[0][0]']           \n",
            "                                                                                                  \n",
            " block5_conv3 (Conv2D)          (None, 14, 14, 512)  2359808     ['block5_conv2[0][0]']           \n",
            "                                                                                                  \n",
            " block5_pool (MaxPooling2D)     (None, 7, 7, 512)    0           ['block5_conv3[0][0]']           \n",
            "                                                                                                  \n",
            " global_average_pooling2d (Glob  (None, 512)         0           ['block5_pool[0][0]']            \n",
            " alAveragePooling2D)                                                                              \n",
            "                                                                                                  \n",
            " dense (Dense)                  (None, 512)          262656      ['global_average_pooling2d[0][0]'\n",
            "                                                                 ]                                \n",
            "                                                                                                  \n",
            " dense_1 (Dense)                (None, 512)          262656      ['dense[0][0]']                  \n",
            "                                                                                                  \n",
            " dense_2 (Dense)                (None, 100)          51300       ['dense_1[0][0]']                \n",
            "                                                                                                  \n",
            " dense_4 (Dense)                (None, 100)          51300       ['dense_1[0][0]']                \n",
            "                                                                                                  \n",
            " dense_3 (Dense)                (None, 100)          10100       ['dense_2[0][0]']                \n",
            "                                                                                                  \n",
            " dense_5 (Dense)                (None, 100)          10100       ['dense_4[0][0]']                \n",
            "                                                                                                  \n",
            " dense_7 (Dense)                (None, 100)          10100       ['dense_4[0][0]']                \n",
            "                                                                                                  \n",
            " expression (Dense)             (None, 8)            808         ['dense_3[0][0]']                \n",
            "                                                                                                  \n",
            " valence (Dense)                (None, 1)            101         ['dense_5[0][0]']                \n",
            "                                                                                                  \n",
            " arrousal (Dense)               (None, 1)            101         ['dense_7[0][0]']                \n",
            "                                                                                                  \n",
            "==================================================================================================\n",
            "Total params: 15,373,910\n",
            "Trainable params: 659,222\n",
            "Non-trainable params: 14,714,688\n",
            "__________________________________________________________________________________________________\n",
            "completed\n"
          ]
        }
      ]
    },
    {
      "cell_type": "code",
      "source": [
        "keras.utils.plot_model(model, \"my_first_model.png\")"
      ],
      "metadata": {
        "id": "1he3MKJFjg71"
      },
      "execution_count": null,
      "outputs": []
    },
    {
      "cell_type": "code",
      "source": [
        "from tensorflow.python.ops.math_ops import reduce_mean\n",
        "#loss and optimizer\n",
        "\n",
        "def WeightedSoftmax(y_true, y_pred):\n",
        "  class_weight=tf.convert_to_tensor(np.array([0.57261169,0.57229192,0.62097051,0.7573698,1.21360446,1.21360446,1.80900564,0.62412396,1.83002202]),dtype=tf.float32)\n",
        "  unreduced_scee=tf.keras.losses.SparseCategoricalCrossentropy(reduction=tf.keras.losses.Reduction.NONE)\n",
        "  loss =unreduced_scee(y_true, y_pred)\n",
        "  weight_mask=tf.gather(class_weight, y_true)\n",
        "  loss=tf.math.multiplt(loss, weight_mask)\n",
        "  loss=tf.reduce_mean\n",
        "\n",
        "loss1=tf.keras.losses.SparseCategoricalCrossentropy(reduction=\"auto\", name=\"CCE\")\n",
        "loss2=tf.keras.losses.MeanSquaredError(reduction=\"auto\", name=\"mean_squared_error\")\n",
        "loss3=tf.keras.losses.MeanSquaredError(reduction=\"auto\", name=\"mean_squared_error\")\n",
        "optim=keras.optimizers.Adam(lr=0.001)\n",
        "metrics=['accuracy']\n",
        "\n",
        "losses={\n",
        "    \"expression\":loss1,\n",
        "    \"valence\":loss2,\n",
        "    \"arrousal\":loss3\n",
        "}\n",
        "\n",
        "\n",
        "model.compile(loss=losses,optimizer=optim,metrics=metrics,loss_weights=[10,1,1])\n",
        "\n"
      ],
      "metadata": {
        "id": "e8SDo3QuETQZ",
        "colab": {
          "base_uri": "https://localhost:8080/"
        },
        "outputId": "09b7f2ea-4eb0-4f92-f06c-6984dce29457"
      },
      "execution_count": 10,
      "outputs": [
        {
          "output_type": "stream",
          "name": "stderr",
          "text": [
            "/usr/local/lib/python3.7/dist-packages/keras/optimizer_v2/adam.py:105: UserWarning: The `lr` argument is deprecated, use `learning_rate` instead.\n",
            "  super(Adam, self).__init__(name, **kwargs)\n"
          ]
        }
      ]
    },
    {
      "cell_type": "code",
      "source": [
        "checkpoint_path = \"training_3/cp.ckpt\"\n",
        "checkpoint_dir = os.path.dirname(checkpoint_path)\n",
        "\n",
        "# Create a callback that saves the model's weights\n",
        "cp_callback = tf.keras.callbacks.ModelCheckpoint(filepath=checkpoint_path,\n",
        "                                                 save_weights_only=True,\n",
        "                                                 verbose=1)"
      ],
      "metadata": {
        "id": "gqUbz_u6x9xd"
      },
      "execution_count": 11,
      "outputs": []
    },
    {
      "cell_type": "code",
      "source": [
        "history=model.fit(\n",
        "    train_generator,\n",
        "    batch_size=64,\n",
        "    epochs=10,\n",
        "    steps_per_epoch=300,\n",
        "    validation_data=valid_generator,\n",
        "    validation_steps=10,callbacks=[cp_callback],\n",
        "    verbose=\"auto\",\n",
        "    shuffle=True\n",
        ")"
      ],
      "metadata": {
        "id": "vIRAk--gEWkI",
        "colab": {
          "base_uri": "https://localhost:8080/"
        },
        "outputId": "64adc39c-2ac3-47d5-c163-dbb44e4956e7"
      },
      "execution_count": 12,
      "outputs": [
        {
          "output_type": "stream",
          "name": "stdout",
          "text": [
            "Epoch 1/10\n",
            "300/300 [==============================] - ETA: 0s - loss: 4.2507 - expression_loss: 0.0124 - valence_loss: 0.2028 - arrousal_loss: 3.9236 - expression_accuracy: 0.0260 - valence_accuracy: 0.0333 - arrousal_accuracy: 0.4393\n",
            "Epoch 1: saving model to training_3/cp.ckpt\n",
            "300/300 [==============================] - 341s 1s/step - loss: 4.2507 - expression_loss: 0.0124 - valence_loss: 0.2028 - arrousal_loss: 3.9236 - expression_accuracy: 0.0260 - valence_accuracy: 0.0333 - arrousal_accuracy: 0.4393 - val_loss: 3.9310 - val_expression_loss: 0.0000e+00 - val_valence_loss: 0.1194 - val_arrousal_loss: 3.8116 - val_expression_accuracy: 0.0200 - val_valence_accuracy: 0.0600 - val_arrousal_accuracy: 0.4400\n",
            "Epoch 2/10\n",
            "300/300 [==============================] - ETA: 0s - loss: 3.3858 - expression_loss: 1.6322e-07 - valence_loss: 0.1079 - arrousal_loss: 3.2779 - expression_accuracy: 0.0180 - valence_accuracy: 0.0313 - arrousal_accuracy: 0.4487\n",
            "Epoch 2: saving model to training_3/cp.ckpt\n",
            "300/300 [==============================] - 297s 991ms/step - loss: 3.3858 - expression_loss: 1.6322e-07 - valence_loss: 0.1079 - arrousal_loss: 3.2779 - expression_accuracy: 0.0180 - valence_accuracy: 0.0313 - arrousal_accuracy: 0.4487 - val_loss: 3.6786 - val_expression_loss: 0.0000e+00 - val_valence_loss: 0.1682 - val_arrousal_loss: 3.5104 - val_expression_accuracy: 0.0200 - val_valence_accuracy: 0.0600 - val_arrousal_accuracy: 0.4200\n",
            "Epoch 3/10\n",
            "300/300 [==============================] - ETA: 0s - loss: 3.3635 - expression_loss: 4.4505e-09 - valence_loss: 0.1013 - arrousal_loss: 3.2622 - expression_accuracy: 0.0227 - valence_accuracy: 0.0373 - arrousal_accuracy: 0.4573\n",
            "Epoch 3: saving model to training_3/cp.ckpt\n",
            "300/300 [==============================] - 278s 926ms/step - loss: 3.3635 - expression_loss: 4.4505e-09 - valence_loss: 0.1013 - arrousal_loss: 3.2622 - expression_accuracy: 0.0227 - valence_accuracy: 0.0373 - arrousal_accuracy: 0.4573 - val_loss: 2.6486 - val_expression_loss: 0.0000e+00 - val_valence_loss: 0.1292 - val_arrousal_loss: 2.5194 - val_expression_accuracy: 0.1000 - val_valence_accuracy: 0.0200 - val_arrousal_accuracy: 0.3200\n",
            "Epoch 4/10\n",
            "300/300 [==============================] - ETA: 0s - loss: 3.3871 - expression_loss: 2.9405e-08 - valence_loss: 0.1049 - arrousal_loss: 3.2822 - expression_accuracy: 0.0153 - valence_accuracy: 0.0287 - arrousal_accuracy: 0.4427\n",
            "Epoch 4: saving model to training_3/cp.ckpt\n",
            "300/300 [==============================] - 257s 856ms/step - loss: 3.3871 - expression_loss: 2.9405e-08 - valence_loss: 0.1049 - arrousal_loss: 3.2822 - expression_accuracy: 0.0153 - valence_accuracy: 0.0287 - arrousal_accuracy: 0.4427 - val_loss: 2.7010 - val_expression_loss: 0.0000e+00 - val_valence_loss: 0.0931 - val_arrousal_loss: 2.6079 - val_expression_accuracy: 0.0400 - val_valence_accuracy: 0.0600 - val_arrousal_accuracy: 0.4800\n",
            "Epoch 5/10\n",
            "300/300 [==============================] - ETA: 0s - loss: 3.1300 - expression_loss: 5.8174e-07 - valence_loss: 0.0934 - arrousal_loss: 3.0366 - expression_accuracy: 0.0207 - valence_accuracy: 0.0327 - arrousal_accuracy: 0.4880\n",
            "Epoch 5: saving model to training_3/cp.ckpt\n",
            "300/300 [==============================] - 249s 830ms/step - loss: 3.1300 - expression_loss: 5.8174e-07 - valence_loss: 0.0934 - arrousal_loss: 3.0366 - expression_accuracy: 0.0207 - valence_accuracy: 0.0327 - arrousal_accuracy: 0.4880 - val_loss: 3.5711 - val_expression_loss: 0.0000e+00 - val_valence_loss: 0.1014 - val_arrousal_loss: 3.4697 - val_expression_accuracy: 0.0600 - val_valence_accuracy: 0.0400 - val_arrousal_accuracy: 0.4600\n",
            "Epoch 6/10\n",
            "300/300 [==============================] - ETA: 0s - loss: 3.4520 - expression_loss: 0.0000e+00 - valence_loss: 0.0958 - arrousal_loss: 3.3562 - expression_accuracy: 0.0333 - valence_accuracy: 0.0307 - arrousal_accuracy: 0.4593\n",
            "Epoch 6: saving model to training_3/cp.ckpt\n",
            "300/300 [==============================] - 221s 737ms/step - loss: 3.4520 - expression_loss: 0.0000e+00 - valence_loss: 0.0958 - arrousal_loss: 3.3562 - expression_accuracy: 0.0333 - valence_accuracy: 0.0307 - arrousal_accuracy: 0.4593 - val_loss: 3.3465 - val_expression_loss: 0.0000e+00 - val_valence_loss: 0.1064 - val_arrousal_loss: 3.2401 - val_expression_accuracy: 0.0000e+00 - val_valence_accuracy: 0.0200 - val_arrousal_accuracy: 0.5200\n",
            "Epoch 7/10\n",
            "300/300 [==============================] - ETA: 0s - loss: 3.3608 - expression_loss: 0.0000e+00 - valence_loss: 0.0948 - arrousal_loss: 3.2659 - expression_accuracy: 0.0287 - valence_accuracy: 0.0373 - arrousal_accuracy: 0.4500\n",
            "Epoch 7: saving model to training_3/cp.ckpt\n",
            "300/300 [==============================] - 208s 692ms/step - loss: 3.3608 - expression_loss: 0.0000e+00 - valence_loss: 0.0948 - arrousal_loss: 3.2659 - expression_accuracy: 0.0287 - valence_accuracy: 0.0373 - arrousal_accuracy: 0.4500 - val_loss: 3.5233 - val_expression_loss: 0.0000e+00 - val_valence_loss: 0.1163 - val_arrousal_loss: 3.4069 - val_expression_accuracy: 0.0200 - val_valence_accuracy: 0.0000e+00 - val_arrousal_accuracy: 0.3400\n",
            "Epoch 8/10\n",
            "300/300 [==============================] - ETA: 0s - loss: 3.2494 - expression_loss: 4.6094e-09 - valence_loss: 0.0948 - arrousal_loss: 3.1546 - expression_accuracy: 0.0220 - valence_accuracy: 0.0400 - arrousal_accuracy: 0.4360\n",
            "Epoch 8: saving model to training_3/cp.ckpt\n",
            "300/300 [==============================] - 199s 663ms/step - loss: 3.2494 - expression_loss: 4.6094e-09 - valence_loss: 0.0948 - arrousal_loss: 3.1546 - expression_accuracy: 0.0220 - valence_accuracy: 0.0400 - arrousal_accuracy: 0.4360 - val_loss: 3.2081 - val_expression_loss: 0.0000e+00 - val_valence_loss: 0.0842 - val_arrousal_loss: 3.1239 - val_expression_accuracy: 0.0200 - val_valence_accuracy: 0.0400 - val_arrousal_accuracy: 0.5200\n",
            "Epoch 9/10\n",
            "300/300 [==============================] - ETA: 0s - loss: 3.3611 - expression_loss: 3.1789e-10 - valence_loss: 0.1007 - arrousal_loss: 3.2604 - expression_accuracy: 0.0193 - valence_accuracy: 0.0267 - arrousal_accuracy: 0.4700\n",
            "Epoch 9: saving model to training_3/cp.ckpt\n",
            "300/300 [==============================] - 196s 652ms/step - loss: 3.3611 - expression_loss: 3.1789e-10 - valence_loss: 0.1007 - arrousal_loss: 3.2604 - expression_accuracy: 0.0193 - valence_accuracy: 0.0267 - arrousal_accuracy: 0.4700 - val_loss: 2.6125 - val_expression_loss: 0.0000e+00 - val_valence_loss: 0.0815 - val_arrousal_loss: 2.5310 - val_expression_accuracy: 0.0000e+00 - val_valence_accuracy: 0.0200 - val_arrousal_accuracy: 0.4400\n",
            "Epoch 10/10\n",
            "300/300 [==============================] - ETA: 0s - loss: 3.1058 - expression_loss: 6.6300e-07 - valence_loss: 0.0909 - arrousal_loss: 3.0149 - expression_accuracy: 0.0193 - valence_accuracy: 0.0320 - arrousal_accuracy: 0.4840\n",
            "Epoch 10: saving model to training_3/cp.ckpt\n",
            "300/300 [==============================] - 177s 588ms/step - loss: 3.1058 - expression_loss: 6.6300e-07 - valence_loss: 0.0909 - arrousal_loss: 3.0149 - expression_accuracy: 0.0193 - valence_accuracy: 0.0320 - arrousal_accuracy: 0.4840 - val_loss: 2.4786 - val_expression_loss: 0.0000e+00 - val_valence_loss: 0.0696 - val_arrousal_loss: 2.4090 - val_expression_accuracy: 0.0000e+00 - val_valence_accuracy: 0.1400 - val_arrousal_accuracy: 0.4600\n"
          ]
        }
      ]
    },
    {
      "cell_type": "markdown",
      "source": [
        "Training Curve"
      ],
      "metadata": {
        "id": "t4ibfedN2ZMI"
      }
    },
    {
      "cell_type": "code",
      "source": [
        "plt.plot(history.history['expression_accuracy'])\n",
        "plt.plot(history.history['val_expression_accuracy'])\n",
        "plt.title('model accuracy')\n",
        "plt.ylabel('accuracy')\n",
        "plt.xlabel('epoch')\n",
        "plt.legend(['train', 'validation'], loc='upper left')\n",
        "plt.show()"
      ],
      "metadata": {
        "id": "6C5V0FLM2YOh",
        "outputId": "ea1e67cc-321e-465b-9d26-fc93bee3955d",
        "colab": {
          "base_uri": "https://localhost:8080/",
          "height": 295
        }
      },
      "execution_count": 13,
      "outputs": [
        {
          "output_type": "display_data",
          "data": {
            "text/plain": [
              "<Figure size 432x288 with 1 Axes>"
            ],
            "image/png": "[encoded data removed]"
          },
          "metadata": {
            "needs_background": "light"
          }
        }
      ]
    },
    {
      "cell_type": "code",
      "source": [
        "plt.plot(history.history['valence_loss'])\n",
        "plt.plot(history.history['arrousal_loss'])\n",
        "plt.title('regression losses')\n",
        "plt.ylabel('loss')\n",
        "plt.xlabel('epoch')\n",
        "plt.legend(['valence','arrousal'], loc='upper left')\n",
        "plt.show()"
      ],
      "metadata": {
        "id": "zh8kewkS2jq1",
        "outputId": "3ac974ee-bdaf-42bc-be36-b07e9d80cc61",
        "colab": {
          "base_uri": "https://localhost:8080/",
          "height": 295
        }
      },
      "execution_count": 14,
      "outputs": [
        {
          "output_type": "display_data",
          "data": {
            "text/plain": [
              "<Figure size 432x288 with 1 Axes>"
            ],
            "image/png": "[encoded data removed]"
          },
          "metadata": {
            "needs_background": "light"
          }
        }
      ]
    },
    {
      "cell_type": "code",
      "source": [
        "df1 = pd.read_csv(\"test.csv\") "
      ],
      "metadata": {
        "id": "aOh3Hg262o2Q"
      },
      "execution_count": 15,
      "outputs": []
    },
    {
      "cell_type": "code",
      "source": [
        "direc='test/te/images'\n",
        "\n",
        "datagen_X=ImageDataGenerator(validation_split=0.2,preprocessing_function =tf.keras.applications.xception.preprocess_input)\n",
        "\n",
        "test_generator_X = datagen_X.flow_from_dataframe(\n",
        "    dataframe=df1,\n",
        "    directory=direc,\n",
        "    x_col=\"image\",\n",
        "    y_col=['valence', 'Arousal', 'expression'],\n",
        "    image_size=(224,224),\n",
        "    batch_size=1,\n",
        "    class_mode=\"multi_output\",\n",
        "    shuffle=True,\n",
        "    seed=42)"
      ],
      "metadata": {
        "id": "fASGKrTz2sEH",
        "outputId": "b51470dc-8201-454c-b7cd-4ea964e325a2",
        "colab": {
          "base_uri": "https://localhost:8080/"
        }
      },
      "execution_count": 16,
      "outputs": [
        {
          "output_type": "stream",
          "name": "stdout",
          "text": [
            "Found 2000 validated image filenames.\n"
          ]
        }
      ]
    },
    {
      "cell_type": "code",
      "source": [
        "loss,expression_loss,valence_loss,arrousal_loss,expression_accuracy,valence_accuracy,arrousal_accuracy = model.evaluate(test_generator_X, verbose=1)"
      ],
      "metadata": {
        "id": "DjLdzomP2yx0",
        "outputId": "b9f2af82-b538-4b6c-d70d-f98a252a5e87",
        "colab": {
          "base_uri": "https://localhost:8080/"
        }
      },
      "execution_count": 21,
      "outputs": [
        {
          "output_type": "stream",
          "name": "stdout",
          "text": [
            "2000/2000 [==============================] - 94s 47ms/step - loss: 3.4056 - expression_loss: 0.0000e+00 - valence_loss: 0.0950 - arrousal_loss: 3.3106 - expression_accuracy: 0.0275 - valence_accuracy: 0.0425 - arrousal_accuracy: 0.4305\n"
          ]
        }
      ]
    },
    {
      "cell_type": "code",
      "source": [
        "expression_1,valence,arousal = model.predict(test_generator_X, verbose=1)"
      ],
      "metadata": {
        "id": "4C1olvqj224W",
        "outputId": "cd1da14c-5038-4e9b-8c37-34ed23463265",
        "colab": {
          "base_uri": "https://localhost:8080/"
        }
      },
      "execution_count": 17,
      "outputs": [
        {
          "output_type": "stream",
          "name": "stdout",
          "text": [
            "2000/2000 [==============================] - 411s 205ms/step\n"
          ]
        }
      ]
    },
    {
      "cell_type": "code",
      "source": [
        "s_array = df1[[\"expression\"]].to_numpy()"
      ],
      "metadata": {
        "id": "LtcyT-rL27rs"
      },
      "execution_count": 18,
      "outputs": []
    },
    {
      "cell_type": "code",
      "source": [
        "y_pred = np.argmax(expression_1, axis=1)"
      ],
      "metadata": {
        "id": "6d2yAvsR3AIL"
      },
      "execution_count": 19,
      "outputs": []
    },
    {
      "cell_type": "code",
      "source": [
        "from sklearn.metrics import classification_report\n",
        "print(classification_report(y_pred, s_array))"
      ],
      "metadata": {
        "id": "fU7DoXp93EL9",
        "outputId": "f20a0800-4519-415a-e4df-41f977a2a8f9",
        "colab": {
          "base_uri": "https://localhost:8080/"
        }
      },
      "execution_count": 20,
      "outputs": [
        {
          "output_type": "stream",
          "name": "stdout",
          "text": [
            "              precision    recall  f1-score   support\n",
            "\n",
            "           0       1.00      0.30      0.46      2000\n",
            "           1       0.00      0.00      0.00         0\n",
            "           2       0.00      0.00      0.00         0\n",
            "           3       0.00      0.00      0.00         0\n",
            "           4       0.00      0.00      0.00         0\n",
            "           5       0.00      0.00      0.00         0\n",
            "           6       0.00      0.00      0.00         0\n",
            "           7       0.00      0.00      0.00         0\n",
            "\n",
            "    accuracy                           0.30      2000\n",
            "   macro avg       0.12      0.04      0.06      2000\n",
            "weighted avg       1.00      0.30      0.46      2000\n",
            "\n"
          ]
        },
        {
          "output_type": "stream",
          "name": "stderr",
          "text": [
            "/usr/local/lib/python3.7/dist-packages/sklearn/metrics/_classification.py:1318: UndefinedMetricWarning: Recall and F-score are ill-defined and being set to 0.0 in labels with no true samples. Use `zero_division` parameter to control this behavior.\n",
            "  _warn_prf(average, modifier, msg_start, len(result))\n",
            "/usr/local/lib/python3.7/dist-packages/sklearn/metrics/_classification.py:1318: UndefinedMetricWarning: Recall and F-score are ill-defined and being set to 0.0 in labels with no true samples. Use `zero_division` parameter to control this behavior.\n",
            "  _warn_prf(average, modifier, msg_start, len(result))\n",
            "/usr/local/lib/python3.7/dist-packages/sklearn/metrics/_classification.py:1318: UndefinedMetricWarning: Recall and F-score are ill-defined and being set to 0.0 in labels with no true samples. Use `zero_division` parameter to control this behavior.\n",
            "  _warn_prf(average, modifier, msg_start, len(result))\n"
          ]
        }
      ]
    }
  ]
}